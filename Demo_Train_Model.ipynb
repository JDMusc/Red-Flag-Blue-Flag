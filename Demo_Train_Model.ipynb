{
 "cells": [
  {
   "cell_type": "markdown",
   "id": "28195225-2289-4c49-883c-c1476ab29ba9",
   "metadata": {},
   "source": [
    "Based on the example [here](https://pytorch.org/tutorials/beginner/text_sentiment_ngrams_tutorial.html)"
   ]
  },
  {
   "cell_type": "markdown",
   "id": "acbd1252-93c2-4388-bf1c-226680be41b6",
   "metadata": {},
   "source": [
    "# Imports"
   ]
  },
  {
   "cell_type": "code",
   "execution_count": 1,
   "id": "2f21f115-0681-45c9-bbca-e2b39f1d9e65",
   "metadata": {},
   "outputs": [],
   "source": [
    "from importlib import reload\n",
    "import os\n",
    "import pickle as pkl\n",
    "import time"
   ]
  },
  {
   "cell_type": "code",
   "execution_count": 2,
   "id": "d120c58e-e8da-4a5b-9de5-1a0964c99424",
   "metadata": {},
   "outputs": [],
   "source": [
    "import numpy as np\n",
    "import pandas as pd\n",
    "import seaborn as sbn\n",
    "from sklearn.metrics import roc_auc_score\n",
    "from sklearn.model_selection import train_test_split\n",
    "import torch\n",
    "from torch.utils.data import Dataset, DataLoader\n",
    "import tqdm"
   ]
  },
  {
   "cell_type": "code",
   "execution_count": 37,
   "id": "f25c4c72-f1e6-443a-b42c-9f53483ad947",
   "metadata": {},
   "outputs": [],
   "source": [
    "import dplyr_lite as d\n",
    "import models_pyt as mo\n",
    "import text_utils as tu"
   ]
  },
  {
   "cell_type": "markdown",
   "id": "a037609a-8f38-45c9-bba9-4f98fa570fdc",
   "metadata": {},
   "source": [
    "# Data"
   ]
  },
  {
   "cell_type": "markdown",
   "id": "adc118fb-f25a-46bf-a463-0581a5c5edf6",
   "metadata": {},
   "source": [
    "Downloaded publicly available pubmed abstracts.  \n",
    "The data is pre-cleaned through regular expressions in `text_utils.cleanTxt`.  \n",
    "Sentence ends are replaced \"\\</s>\" tag."
   ]
  },
  {
   "cell_type": "code",
   "execution_count": 4,
   "id": "4a27aaac-05c5-4f2f-b91b-184c3e9db060",
   "metadata": {},
   "outputs": [],
   "source": [
    "abstracts = pd.read_csv('content/pubmed_cr_hep_ctl_abstracts_clean.csv')"
   ]
  },
  {
   "cell_type": "code",
   "execution_count": 5,
   "id": "b8153eb2-2ce0-43da-8046-ee6e871728cb",
   "metadata": {},
   "outputs": [
    {
     "data": {
      "text/html": [
       "<div>\n",
       "<style scoped>\n",
       "    .dataframe tbody tr th:only-of-type {\n",
       "        vertical-align: middle;\n",
       "    }\n",
       "\n",
       "    .dataframe tbody tr th {\n",
       "        vertical-align: top;\n",
       "    }\n",
       "\n",
       "    .dataframe thead th {\n",
       "        text-align: right;\n",
       "    }\n",
       "</style>\n",
       "<table border=\"1\" class=\"dataframe\">\n",
       "  <thead>\n",
       "    <tr style=\"text-align: right;\">\n",
       "      <th></th>\n",
       "      <th>pmid</th>\n",
       "      <th>label_cir</th>\n",
       "      <th>label_nfl</th>\n",
       "      <th>label_hep</th>\n",
       "      <th>label_hpc</th>\n",
       "      <th>txt</th>\n",
       "    </tr>\n",
       "  </thead>\n",
       "  <tbody>\n",
       "    <tr>\n",
       "      <th>0</th>\n",
       "      <td>30558055</td>\n",
       "      <td>1</td>\n",
       "      <td>0</td>\n",
       "      <td>0</td>\n",
       "      <td>0</td>\n",
       "      <td>abo incompatible living donor liver transplant...</td>\n",
       "    </tr>\n",
       "    <tr>\n",
       "      <th>1</th>\n",
       "      <td>30558011</td>\n",
       "      <td>1</td>\n",
       "      <td>0</td>\n",
       "      <td>0</td>\n",
       "      <td>0</td>\n",
       "      <td>a human ciliopathy with polycystic ovarian syn...</td>\n",
       "    </tr>\n",
       "    <tr>\n",
       "      <th>2</th>\n",
       "      <td>30540737</td>\n",
       "      <td>1</td>\n",
       "      <td>0</td>\n",
       "      <td>0</td>\n",
       "      <td>0</td>\n",
       "      <td>vibrio cholerae no - o1 no - o139 bacteremia i...</td>\n",
       "    </tr>\n",
       "  </tbody>\n",
       "</table>\n",
       "</div>"
      ],
      "text/plain": [
       "       pmid  label_cir  label_nfl  label_hep  label_hpc  \\\n",
       "0  30558055          1          0          0          0   \n",
       "1  30558011          1          0          0          0   \n",
       "2  30540737          1          0          0          0   \n",
       "\n",
       "                                                 txt  \n",
       "0  abo incompatible living donor liver transplant...  \n",
       "1  a human ciliopathy with polycystic ovarian syn...  \n",
       "2  vibrio cholerae no - o1 no - o139 bacteremia i...  "
      ]
     },
     "execution_count": 5,
     "metadata": {},
     "output_type": "execute_result"
    }
   ],
   "source": [
    "abstracts.head(n = 3)"
   ]
  },
  {
   "cell_type": "code",
   "execution_count": 6,
   "id": "2dc027c6-a74d-47cd-a9e0-8a3d24c43d6b",
   "metadata": {},
   "outputs": [
    {
     "data": {
      "text/plain": [
       "'abo incompatible living donor liver transplantation using dual grafts and pure laparoscopic donor right hepatectomy a case report </s> </s> rationale because of the shortage of deceased donors living donor liver transplantation ldlt has become the main procedure to treat patients with end - stage liver disease in asian countries </s> however many potential donors are excluded because of donor safety and graft volume issues </s> in addition large abdominal wounds after open surgery for hepatectomy could be a reason for hesitating to agree to liver donation particularly when attempting to recruit young female donors </s> patient concerns on volumetric computed tomography ct examination remnant liver volume was too small to guarantee the safety of the male donor and the right hemiliver volume of the female donor was not sufficient to meet the recipient metabolic demand </s> the young female donor also worried about a large abdominal wound following open surgery </s> interventions we performed abo - incompatible ldlt using dual grafts and right - sided graft was obtained by pure laparoscopic donor right hepatectomy in a young female donor </s> outcomes the postoperative course was uneventful in both donors and the recipient is presently doing well in satisfactory condition 7 months after liver transplantation </s> lessons we overcame these volumetric and cosmetic issues through dual living donor liver grafts using a combination of conventional surgery for 1 donor and laparoscopic right hepatectomy for a second abo - incompatible donor </s> we think this procedure can be a good option for the expansion of donor pools </s>'"
      ]
     },
     "execution_count": 6,
     "metadata": {},
     "output_type": "execute_result"
    }
   ],
   "source": [
    "abstracts.txt[0]"
   ]
  },
  {
   "cell_type": "code",
   "execution_count": 7,
   "id": "8a63f633-e9a1-401c-98fc-8fb22f79b609",
   "metadata": {},
   "outputs": [
    {
     "data": {
      "text/html": [
       "<div>\n",
       "<style scoped>\n",
       "    .dataframe tbody tr th:only-of-type {\n",
       "        vertical-align: middle;\n",
       "    }\n",
       "\n",
       "    .dataframe tbody tr th {\n",
       "        vertical-align: top;\n",
       "    }\n",
       "\n",
       "    .dataframe thead th {\n",
       "        text-align: right;\n",
       "    }\n",
       "</style>\n",
       "<table border=\"1\" class=\"dataframe\">\n",
       "  <thead>\n",
       "    <tr style=\"text-align: right;\">\n",
       "      <th></th>\n",
       "      <th>label_hep</th>\n",
       "      <th>n</th>\n",
       "    </tr>\n",
       "  </thead>\n",
       "  <tbody>\n",
       "    <tr>\n",
       "      <th>0</th>\n",
       "      <td>0</td>\n",
       "      <td>4458</td>\n",
       "    </tr>\n",
       "    <tr>\n",
       "      <th>1</th>\n",
       "      <td>1</td>\n",
       "      <td>2268</td>\n",
       "    </tr>\n",
       "  </tbody>\n",
       "</table>\n",
       "</div>"
      ],
      "text/plain": [
       "   label_hep     n\n",
       "0          0  4458\n",
       "1          1  2268"
      ]
     },
     "execution_count": 7,
     "metadata": {},
     "output_type": "execute_result"
    }
   ],
   "source": [
    "d.p(abstracts, d.count('label_hep'))"
   ]
  },
  {
   "cell_type": "markdown",
   "id": "6625df71-f498-4f6e-8ce2-1273f43cd3ac",
   "metadata": {},
   "source": [
    "400 cutoff captures almost all information"
   ]
  },
  {
   "cell_type": "code",
   "execution_count": 8,
   "id": "5efd6692-2c37-44b2-b65f-1a6557bb596a",
   "metadata": {},
   "outputs": [],
   "source": [
    "sample_len = 400"
   ]
  },
  {
   "cell_type": "code",
   "execution_count": 9,
   "id": "d1e1e60f-b676-48b2-8f48-ab811c0cee2a",
   "metadata": {},
   "outputs": [
    {
     "data": {
      "text/plain": [
       "<seaborn.axisgrid.FacetGrid at 0x7f9085ed6fd0>"
      ]
     },
     "execution_count": 9,
     "metadata": {},
     "output_type": "execute_result"
    },
    {
     "data": {
      "image/png": "[encoded data removed]",
      "text/plain": [
       "<Figure size 416x360 with 1 Axes>"
      ]
     },
     "metadata": {
      "needs_background": "light"
     },
     "output_type": "display_data"
    }
   ],
   "source": [
    "d.p(\n",
    "    abstracts,\n",
    "    d.mutate(txt_len = ('txt', lambda _: len(_.split(' ')))),\n",
    "    lambda _: sbn.displot(data = _, x = 'txt_len', hue = 'label_hep')\n",
    ")"
   ]
  },
  {
   "cell_type": "markdown",
   "id": "a47b1376-53aa-4c1f-9798-211c04a17855",
   "metadata": {},
   "source": [
    "# Tokenize, Numericize"
   ]
  },
  {
   "cell_type": "code",
   "execution_count": 26,
   "id": "f45bb3d8-fe98-4423-95e2-de2c6a7f9753",
   "metadata": {},
   "outputs": [
    {
     "name": "stderr",
     "output_type": "stream",
     "text": [
      "100%|█████████████████████████████████████████████████████████████████████████████████████████████████| 6726/6726 [00:00<00:00, 9316.96it/s]\n"
     ]
    }
   ],
   "source": [
    "vocab = tu.create_vocab(abstracts)"
   ]
  },
  {
   "cell_type": "code",
   "execution_count": 31,
   "id": "6d52b6f0-876d-4735-b31c-31ce05264999",
   "metadata": {},
   "outputs": [
    {
     "data": {
      "text/plain": [
       "'abo incompatible living donor '"
      ]
     },
     "execution_count": 31,
     "metadata": {},
     "output_type": "execute_result"
    }
   ],
   "source": [
    "abstracts.txt[0][:30]"
   ]
  },
  {
   "cell_type": "code",
   "execution_count": 29,
   "id": "e4d45cf1-816d-4863-9b48-a1d7462e58f5",
   "metadata": {},
   "outputs": [
    {
     "data": {
      "text/plain": [
       "array([3041, 3850,  480,  193,    0,    0,    0])"
      ]
     },
     "execution_count": 29,
     "metadata": {},
     "output_type": "execute_result"
    }
   ],
   "source": [
    "tu.numericize_sample(abstracts.txt[0][:30], vocab, 7)"
   ]
  },
  {
   "cell_type": "code",
   "execution_count": 30,
   "id": "5c10e898-70fa-4c56-aa50-058e0140f469",
   "metadata": {},
   "outputs": [
    {
     "data": {
      "text/plain": [
       "array([3041, 3850,  480,  193,   17,   80,  135])"
      ]
     },
     "execution_count": 30,
     "metadata": {},
     "output_type": "execute_result"
    }
   ],
   "source": [
    "tu.numericize_sample(abstracts.txt[0], vocab, 7)"
   ]
  },
  {
   "cell_type": "markdown",
   "id": "4e7bcb96-5081-4269-b453-dc9ef2833309",
   "metadata": {},
   "source": [
    "# Data Loader"
   ]
  },
  {
   "cell_type": "code",
   "execution_count": 32,
   "id": "f77a04cd-d648-484f-b3ed-295126423131",
   "metadata": {},
   "outputs": [],
   "source": [
    "all_ixs = list(range(len(abstracts)))\n",
    "ys = abstracts.label_hep.values\n",
    "\n",
    "experiment_ixs, holdout_ixs = train_test_split(all_ixs, test_size=.15, stratify=ys)\n",
    "train_ixs, val_ixs = train_test_split(experiment_ixs, test_size=.2, stratify=ys[experiment_ixs])"
   ]
  },
  {
   "cell_type": "code",
   "execution_count": 33,
   "id": "ba152ece-9123-4971-b269-f9add8a4cec3",
   "metadata": {},
   "outputs": [
    {
     "data": {
      "text/plain": [
       "[4724, 1750, 3353, 850, 6354]"
      ]
     },
     "execution_count": 33,
     "metadata": {},
     "output_type": "execute_result"
    }
   ],
   "source": [
    "train_ixs[:5]"
   ]
  },
  {
   "cell_type": "code",
   "execution_count": 34,
   "id": "7a3154d7-01bf-4db0-9a88-7b6671b1da09",
   "metadata": {},
   "outputs": [],
   "source": [
    "ixs_to_dataloader = lambda ixs, bs = 64, shuffle = True: tu.ixs_to_dataloader(\n",
    "    ixs,\n",
    "    abstracts,\n",
    "    vocab,\n",
    "    sample_len = sample_len,\n",
    "    bs=bs,\n",
    "    shuffle=shuffle\n",
    ")"
   ]
  },
  {
   "cell_type": "code",
   "execution_count": 35,
   "id": "f7ea6ae2-1995-41ff-9026-2ced6de4e9f7",
   "metadata": {},
   "outputs": [],
   "source": [
    "train_dataloader, val_dataloader, holdout_dataloader = [ \n",
    "    ixs_to_dataloader(_) \n",
    "    for _ in ( train_ixs, val_ixs, holdout_ixs ) \n",
    "]"
   ]
  },
  {
   "cell_type": "markdown",
   "id": "6b53e3f2-3bba-4a3f-a9c2-832a8721fa33",
   "metadata": {},
   "source": [
    "# Train"
   ]
  },
  {
   "cell_type": "code",
   "execution_count": 40,
   "id": "61d1a790-8454-4aff-9fed-3dffcbc14a8e",
   "metadata": {},
   "outputs": [],
   "source": [
    "def get_roc_auc(labels, pred_labels):\n",
    "    return roc_auc_score(labels.detach().cpu(), pred_labels.softmax(1)[:, 1].detach().cpu())\n",
    "\n",
    "def get_acc(labels, pred_labels):\n",
    "    return (pred_labels.argmax(1) == labels).sum().item()\n",
    "\n",
    "def train(dataloader, model, optimizer, criterion, epoch):\n",
    "    model.train()\n",
    "    total_auc, total_acc, total_count = 0, 0, 0\n",
    "    log_interval = 10\n",
    "    start_time = time.time()\n",
    "\n",
    "    for idx, (nums, labels) in enumerate(dataloader):\n",
    "        optimizer.zero_grad()\n",
    "        pred_labels = model(nums)\n",
    "        loss = criterion(pred_labels, labels)\n",
    "        loss.backward()\n",
    "        torch.nn.utils.clip_grad_norm_(model.parameters(), 0.1)\n",
    "        optimizer.step()\n",
    "        total_auc += get_roc_auc(labels, pred_labels)\n",
    "        total_acc += get_acc(labels, pred_labels)\n",
    "        total_count += labels.size(0)\n",
    "        if idx % log_interval == 0 and idx > 0:\n",
    "            elapsed = time.time() - start_time\n",
    "            print('| epoch {:3d} | {:5d}/{:5d} batches '\n",
    "                  '| auc {:8.3f}'\n",
    "                  '| acc {:8.3f}'.format(epoch, idx, len(dataloader),\n",
    "                                         total_auc/(log_interval+1),\n",
    "                                         total_acc/total_count * 100)\n",
    "                 )\n",
    "            total_auc, total_acc, total_count = 0, 0, 0\n",
    "            start_time = time.time()\n",
    "        \n",
    "\n",
    "def evaluate(dataloader, model):\n",
    "    model.eval()\n",
    "    total_auc, total_acc, total_count = 0, 0, 0\n",
    "\n",
    "    with torch.no_grad():\n",
    "        for idx, (nums, labels) in enumerate(dataloader):\n",
    "            pred_labels = model(nums)\n",
    "            loss = criterion(pred_labels, labels)\n",
    "            total_auc += get_roc_auc(labels, pred_labels)\n",
    "            total_acc += get_acc(labels, pred_labels)\n",
    "            total_count += labels.size(0)\n",
    "    return total_auc/(idx + 1), total_acc/total_count"
   ]
  },
  {
   "cell_type": "code",
   "execution_count": 42,
   "id": "ef613b1e-64cd-41ac-b852-bec0171aec3f",
   "metadata": {},
   "outputs": [],
   "source": [
    "scan_cnn_1logit = mo.ScanCnn1Logit(sample_len, n_terms=len(vocab.vocab) + 1).to('cuda')"
   ]
  },
  {
   "cell_type": "code",
   "execution_count": 43,
   "id": "ec7b01fd-d095-42f4-ab5f-6da5739b40a2",
   "metadata": {},
   "outputs": [
    {
     "name": "stderr",
     "output_type": "stream",
     "text": [
      "/home/jod204/anaconda3/envs/jd_pyt_pip_keras_fastai/lib/python3.9/site-packages/torch/nn/functional.py:652: UserWarning: Named tensors and all their associated APIs are an experimental feature and subject to change. Please do not use them for anything important until they are released as stable. (Triggered internally at  /opt/conda/conda-bld/pytorch_1623448255797/work/c10/core/TensorImpl.h:1156.)\n",
      "  return torch.max_pool1d(input, kernel_size, stride, padding, dilation, ceil_mode)\n"
     ]
    },
    {
     "name": "stdout",
     "output_type": "stream",
     "text": [
      "| epoch   1 |    10/   72 batches | auc    0.596| acc   45.881\n",
      "| epoch   1 |    20/   72 batches | auc    0.566| acc   68.281\n",
      "| epoch   1 |    30/   72 batches | auc    0.637| acc   68.281\n",
      "| epoch   1 |    40/   72 batches | auc    0.722| acc   73.594\n",
      "| epoch   1 |    50/   72 batches | auc    0.734| acc   68.906\n",
      "| epoch   1 |    60/   72 batches | auc    0.799| acc   83.281\n",
      "| epoch   1 |    70/   72 batches | auc    0.806| acc   75.469\n",
      "-----------------------------------------------------------\n",
      "| end of epoch   1 | time:  3.04s | valid auc 0.911 | valid acc 0.823\n",
      "-----------------------------------------------------------\n",
      "| epoch   2 |    10/   72 batches | auc    0.936| acc   84.943\n",
      "| epoch   2 |    20/   72 batches | auc    0.855| acc   85.000\n",
      "| epoch   2 |    30/   72 batches | auc    0.876| acc   88.438\n",
      "| epoch   2 |    40/   72 batches | auc    0.887| acc   92.188\n",
      "| epoch   2 |    50/   72 batches | auc    0.868| acc   89.688\n",
      "| epoch   2 |    60/   72 batches | auc    0.880| acc   93.594\n",
      "| epoch   2 |    70/   72 batches | auc    0.882| acc   93.438\n",
      "-----------------------------------------------------------\n",
      "| end of epoch   2 | time:  2.85s | valid auc 0.968 | valid acc 0.934\n",
      "-----------------------------------------------------------\n",
      "| epoch   3 |    10/   72 batches | auc    0.969| acc   93.324\n",
      "| epoch   3 |    20/   72 batches | auc    0.895| acc   96.094\n",
      "| epoch   3 |    30/   72 batches | auc    0.878| acc   94.219\n",
      "| epoch   3 |    40/   72 batches | auc    0.885| acc   94.688\n",
      "| epoch   3 |    50/   72 batches | auc    0.887| acc   95.469\n",
      "| epoch   3 |    60/   72 batches | auc    0.892| acc   94.688\n",
      "| epoch   3 |    70/   72 batches | auc    0.893| acc   95.312\n",
      "-----------------------------------------------------------\n",
      "| end of epoch   3 | time:  2.84s | valid auc 0.969 | valid acc 0.952\n",
      "-----------------------------------------------------------\n",
      "| epoch   4 |    10/   72 batches | auc    0.988| acc   94.176\n",
      "| epoch   4 |    20/   72 batches | auc    0.897| acc   94.219\n",
      "| epoch   4 |    30/   72 batches | auc    0.892| acc   94.531\n",
      "| epoch   4 |    40/   72 batches | auc    0.891| acc   95.625\n",
      "| epoch   4 |    50/   72 batches | auc    0.899| acc   95.469\n",
      "| epoch   4 |    60/   72 batches | auc    0.896| acc   94.219\n",
      "| epoch   4 |    70/   72 batches | auc    0.896| acc   96.562\n",
      "-----------------------------------------------------------\n",
      "| end of epoch   4 | time:  2.85s | valid auc 0.970 | valid acc 0.952\n",
      "-----------------------------------------------------------\n",
      "| epoch   5 |    10/   72 batches | auc    0.989| acc   94.602\n",
      "| epoch   5 |    20/   72 batches | auc    0.901| acc   95.781\n",
      "| epoch   5 |    30/   72 batches | auc    0.901| acc   95.781\n",
      "| epoch   5 |    40/   72 batches | auc    0.904| acc   96.094\n",
      "| epoch   5 |    50/   72 batches | auc    0.896| acc   93.750\n",
      "| epoch   5 |    60/   72 batches | auc    0.902| acc   94.688\n",
      "| epoch   5 |    70/   72 batches | auc    0.902| acc   95.312\n",
      "-----------------------------------------------------------\n",
      "| end of epoch   5 | time:  2.85s | valid auc 0.970 | valid acc 0.949\n",
      "-----------------------------------------------------------\n"
     ]
    }
   ],
   "source": [
    "EPOCHS = 5\n",
    "criterion = torch.nn.CrossEntropyLoss()\n",
    "optimizer = torch.optim.Adam(scan_cnn_1logit.parameters(), lr=3.5e-4)\n",
    "total_auc = None\n",
    "for epoch in range(1, EPOCHS + 1):\n",
    "    epoch_start_time = time.time()\n",
    "    train(train_dataloader, scan_cnn_1logit, optimizer, criterion, epoch)\n",
    "    auc_val, acc_val = evaluate(val_dataloader, scan_cnn_1logit)\n",
    "    if total_auc is None or total_auc < auc_val:\n",
    "        total_auc = auc_val\n",
    "    print('-' * 59)\n",
    "    print('| end of epoch {:3d} | time: {:5.2f}s | '\n",
    "          'valid auc {:5.3f} | '\n",
    "          'valid acc {:5.3f}'.format(epoch,\n",
    "                                    time.time() - epoch_start_time,\n",
    "                                    auc_val, acc_val))\n",
    "    print('-' * 59)"
   ]
  },
  {
   "cell_type": "markdown",
   "id": "248ac0f9-7faf-4917-9e1d-b78d39231e3f",
   "metadata": {},
   "source": [
    "# Holdout AUC"
   ]
  },
  {
   "cell_type": "code",
   "execution_count": 44,
   "id": "3427f3f0-560c-4b20-8baf-f63a7eb60a63",
   "metadata": {},
   "outputs": [
    {
     "data": {
      "text/plain": [
       "'holdout AUC: 0.966; ACC: 0.948'"
      ]
     },
     "execution_count": 44,
     "metadata": {},
     "output_type": "execute_result"
    }
   ],
   "source": [
    "d.p(\n",
    "    evaluate(holdout_dataloader, scan_cnn_1logit),\n",
    "    lambda _: f'holdout AUC: {_[0]:.3f}; ACC: {_[1]:.3f}'\n",
    ")"
   ]
  },
  {
   "cell_type": "markdown",
   "id": "0442dc53-3a03-4eff-a961-a85932ba0658",
   "metadata": {},
   "source": [
    "# Save Model and Vocab"
   ]
  },
  {
   "cell_type": "code",
   "execution_count": 49,
   "id": "8c0caf47-51f5-4253-b5c7-4a2b57e7b5f8",
   "metadata": {},
   "outputs": [],
   "source": [
    "dst_dir = 'model_info'\n",
    "if not os.path.isdir(dst_dir):\n",
    "    os.makedirs(dst_dir)\n",
    "    \n",
    "mk_dst_f = lambda f: os.path.join(dst_dir, f)\n",
    "\n",
    "with open(mk_dst_f('vocab.pkl'), 'wb') as f:\n",
    "    pkl.dump(vocab, f)\n",
    "\n",
    "scan_cnn_1logit.eval()\n",
    "torch.save(scan_cnn_1logit.state_dict(), mk_dst_f('state_dict.pt'))\n",
    "\n",
    "with open(mk_dst_f('ixs_lookup.pkl'), 'wb') as f:\n",
    "    pkl.dump(\n",
    "        {\n",
    "            'train': train_ixs,\n",
    "            'val': val_ixs,\n",
    "            'holdout': holdout_ixs\n",
    "        },\n",
    "        f\n",
    "    )"
   ]
  },
  {
   "cell_type": "code",
   "execution_count": null,
   "id": "82c20535-376b-4caa-bc9e-d9df5eaf1194",
   "metadata": {},
   "outputs": [],
   "source": []
  }
 ],
 "metadata": {
  "kernelspec": {
   "display_name": "Python 3 (ipykernel)",
   "language": "python",
   "name": "python3"
  },
  "language_info": {
   "codemirror_mode": {
    "name": "ipython",
    "version": 3
   },
   "file_extension": ".py",
   "mimetype": "text/x-python",
   "name": "python",
   "nbconvert_exporter": "python",
   "pygments_lexer": "ipython3",
   "version": "3.9.6"
  }
 },
 "nbformat": 4,
 "nbformat_minor": 5
}
